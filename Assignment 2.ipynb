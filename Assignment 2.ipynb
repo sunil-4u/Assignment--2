{
 "cells": [
  {
   "cell_type": "code",
   "execution_count": 101,
   "id": "530edd0c",
   "metadata": {},
   "outputs": [
    {
     "name": "stdout",
     "output_type": "stream",
     "text": [
      "True\n",
      "False\n"
     ]
    }
   ],
   "source": [
    "# 1.What are the two values of the Boolean data type? How do you write them?\n",
    "\n",
    "# True & False are the 2 values of boolean data type\n",
    "    # let\n",
    "a = 10\n",
    "b = 3\n",
    "print(a>b)\n",
    "print(a<b)\n"
   ]
  },
  {
   "cell_type": "code",
   "execution_count": 102,
   "id": "4f069989",
   "metadata": {},
   "outputs": [],
   "source": [
    "# 2. What are the three different types of Boolean operators?\n",
    "\n",
    "#1 = and\n",
    "#2 = or\n",
    "#3 = not\n",
    " # this are 3 diff. type of boolean operators"
   ]
  },
  {
   "cell_type": "code",
   "execution_count": 116,
   "id": "d917b53e",
   "metadata": {},
   "outputs": [
    {
     "name": "stdout",
     "output_type": "stream",
     "text": [
      "True\n",
      "False\n",
      "False\n",
      "False\n",
      "True\n",
      "True\n",
      "False\n",
      "True\n"
     ]
    }
   ],
   "source": [
    "# 3. Make a list of each Boolean operator's truth tables (i.e. every possible combination of Boolean values for the operator and what it evaluate )\n",
    "\n",
    "\n",
    "a = 10\n",
    "b = 3\n",
    "print(a>b and b<a)\n",
    "# true & true\n",
    "\n",
    "print(a<b and b<a)\n",
    "# false & true\n",
    "\n",
    "print(a>b and b>a)\n",
    "# true & false\n",
    "\n",
    "print(a==b and b==a)\n",
    "# false & false\n",
    "\n",
    "a = 8\n",
    "b = 4\n",
    "print(a>b or b<a)\n",
    "#true or true\n",
    "\n",
    "print(a<b or b<a)\n",
    "#false or true\n",
    "\n",
    "print(a==b or b==a)\n",
    "#false or false\n",
    "\n",
    "print(a>b or b==a)\n",
    "#true or false"
   ]
  },
  {
   "cell_type": "code",
   "execution_count": 86,
   "id": "c389d820",
   "metadata": {},
   "outputs": [
    {
     "name": "stdout",
     "output_type": "stream",
     "text": [
      "False\n",
      "False\n",
      "True\n",
      "False\n",
      "False\n",
      "True\n"
     ]
    }
   ],
   "source": [
    "# 4. What are the values of the following expressions?\n",
    "\n",
    "\n",
    "\n",
    "print( (5 > 4) and (3 == 5))\n",
    "# if statement 1 is True & statement 2 is false, then it is false\n",
    "\n",
    "print(not (5 > 4))\n",
    "#if statement is True, then the statement will be false in \"not\" condition\n",
    "\n",
    "print((5 > 4) or (3 == 5))\n",
    "#if statement 1 is True & statement 2 is false, then in \"or\" condition it will always returns True statement \n",
    "\n",
    "print(not ((5 > 4) or (3 == 5)))\n",
    "# \"not\" condition returns True statement to False statement & vise versa\n",
    "\n",
    "print((True and True) and (True == False))\n",
    "#\n",
    "print((not False) or (not True))\n",
    "# "
   ]
  },
  {
   "cell_type": "code",
   "execution_count": 4,
   "id": "1a017d58",
   "metadata": {},
   "outputs": [],
   "source": [
    "# 5. What are the six comparison operators?\n",
    "1 = '>' greater than\n",
    "2 = '<' smaller than\n",
    "3 = '>=' greater than or equal to\n",
    "4 = '<=' smaller than or equal to\n",
    "5 = '=' equal to\n",
    "6 = '!=' not equal to"
   ]
  },
  {
   "cell_type": "code",
   "execution_count": 58,
   "id": "7aaa72c1",
   "metadata": {},
   "outputs": [
    {
     "data": {
      "text/plain": [
       "False"
      ]
     },
     "execution_count": 58,
     "metadata": {},
     "output_type": "execute_result"
    }
   ],
   "source": [
    "# 6. How do you tell the difference between the equal to and assignment operators?Describe a condition and when you would use one.\n",
    "\n",
    "''' equal to '==' is a comparision between 2 variables\n",
    "     where as assign operation \"=\" means a value is stored in that variable\n",
    "     for eg: '''\n",
    "n = 10\n",
    "a = 5\n",
    "a == n\n"
   ]
  },
  {
   "cell_type": "code",
   "execution_count": 38,
   "id": "ffceac72",
   "metadata": {},
   "outputs": [
    {
     "name": "stdout",
     "output_type": "stream",
     "text": [
      "ham\n",
      "spam\n",
      "spam\n"
     ]
    }
   ],
   "source": [
    "#  7. Identify the three blocks in this code:\n",
    "\n",
    "\n",
    "spam = 0\n",
    "if spam == 10:\n",
    "    print('eggs')\n",
    "if spam > 5:\n",
    "    print('bacon')\n",
    "else:\n",
    "    print('ham')\n",
    "    print('spam')\n",
    "    print('spam')\n",
    "# those are the variables"
   ]
  },
  {
   "cell_type": "code",
   "execution_count": 37,
   "id": "a1465c49",
   "metadata": {},
   "outputs": [
    {
     "name": "stdout",
     "output_type": "stream",
     "text": [
      "hello\n",
      "Howdy\n",
      "Greetings\n"
     ]
    }
   ],
   "source": [
    "# 8. Write code that prints Hello if 1 is stored in spam, prints Howdy if 2 is stored in spam, and prints Greetings! if anything else is stored in spam.\n",
    "\n",
    "spam = 1\n",
    "if spam == 1:\n",
    "    print('hello')\n",
    "    \n",
    "    spam = spam+1\n",
    "    print('Howdy')\n",
    "\n",
    "    spam = (45, \"dhghd\",4+8j)\n",
    "    print('Greetings')\n"
   ]
  },
  {
   "cell_type": "code",
   "execution_count": 15,
   "id": "2d4d5a91",
   "metadata": {},
   "outputs": [],
   "source": [
    "#  9.If your programme is stuck in an endless loop, what keys you’ll press?\n",
    "\n",
    "\n",
    "#  ctrl + c is the command"
   ]
  },
  {
   "cell_type": "code",
   "execution_count": 1,
   "id": "1f26fc65",
   "metadata": {},
   "outputs": [],
   "source": [
    "# 10. How can you tell the difference between break and continue?\n",
    "\n",
    "\n",
    "#     break = in break the loop is terminated completely & jumps to next statement\n",
    "#      \n",
    "#     \n",
    "#     continue =  in a loop the continue statement will be skipped for \n",
    "#                      the current iteration and the next iteration of the loop will begin.\n",
    "#\n",
    "#"
   ]
  },
  {
   "cell_type": "code",
   "execution_count": 27,
   "id": "d3487875",
   "metadata": {},
   "outputs": [
    {
     "name": "stdout",
     "output_type": "stream",
     "text": [
      "0\n",
      "1\n",
      "2\n",
      "3\n",
      "4\n",
      "5\n",
      "6\n",
      "7\n",
      "8\n",
      "9\n",
      "0 1 2 3 4 5 6 7 8 9 0123456789"
     ]
    }
   ],
   "source": [
    "# 11. In a for loop, what is the difference between range(10), range(0, 10), and range(0, 10, 1)?\n",
    "\n",
    "'''in range(10)= here single argument is given & having default starting point \n",
    "   for eg : '''\n",
    "for i in range(10):\n",
    "    print(i) \n",
    "    \n",
    "'''in range(0,10)= here double argument is given & having specified starting point & end point\n",
    "     for eg : '''\n",
    "for i in range(0,10):\n",
    "    print(i,end=\" \") \n",
    "\n",
    "    '''in range(0,10,1)= here triple argument is given & having specified starting point , end point & step size\n",
    "     for eg : '''  \n",
    "for i in range(0,10,1):\n",
    "    print(i,end=\"\")\n",
    "    \n",
    "    # they do have the same output"
   ]
  },
  {
   "cell_type": "code",
   "execution_count": 24,
   "id": "2efdc09c",
   "metadata": {},
   "outputs": [
    {
     "name": "stdout",
     "output_type": "stream",
     "text": [
      "0\n",
      "1\n",
      "2\n",
      "3\n",
      "4\n",
      "5\n",
      "6\n",
      "7\n",
      "8\n",
      "9\n",
      "12345678910"
     ]
    }
   ],
   "source": [
    "# 12. Write a short program that prints the numbers 1 to 10 using a for loop. Then write an equivalent program that prints the numbers 1 to 10 using a while loop.\n",
    "\n",
    "#   for loop,\n",
    "\n",
    "n = 10\n",
    "for i in range(n):\n",
    "    print(i)\n",
    "\n",
    "# while loop,\n",
    "\n",
    "a = 1\n",
    "b = 10\n",
    "while a <= b:\n",
    "    print(a , end=\"\")\n",
    "    a = a+ 1\n"
   ]
  },
  {
   "cell_type": "code",
   "execution_count": 68,
   "id": "95eb0ed9",
   "metadata": {},
   "outputs": [],
   "source": [
    "# 13. If you had a function named bacon() inside a module named spam, how would you call it after importing spam?\n",
    "\n",
    "# it can be called as spam.bacon()\n"
   ]
  },
  {
   "cell_type": "code",
   "execution_count": null,
   "id": "9f22a530",
   "metadata": {},
   "outputs": [],
   "source": []
  },
  {
   "cell_type": "code",
   "execution_count": null,
   "id": "5b7bf599",
   "metadata": {},
   "outputs": [],
   "source": []
  }
 ],
 "metadata": {
  "kernelspec": {
   "display_name": "Python 3 (ipykernel)",
   "language": "python",
   "name": "python3"
  },
  "language_info": {
   "codemirror_mode": {
    "name": "ipython",
    "version": 3
   },
   "file_extension": ".py",
   "mimetype": "text/x-python",
   "name": "python",
   "nbconvert_exporter": "python",
   "pygments_lexer": "ipython3",
   "version": "3.9.7"
  }
 },
 "nbformat": 4,
 "nbformat_minor": 5
}
